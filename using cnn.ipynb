{
 "cells": [
  {
   "cell_type": "code",
   "execution_count": 1,
   "id": "08133bdc",
   "metadata": {},
   "outputs": [],
   "source": [
    "import pandas as pd\n",
    "import numpy as np\n",
    "import seaborn as sns\n",
    "import matplotlib.pyplot as plt\n",
    "%matplotlib inline\n",
    "from tensorflow.keras.layers import Conv1D,Input,Embedding,MaxPooling1D,GlobalMaxPooling1D,Dense\n",
    "from tensorflow.keras.models import Model\n",
    "from tensorflow.keras.preprocessing.text import Tokenizer\n",
    "from tensorflow.keras.preprocessing.sequence import pad_sequences\n",
    "from sklearn.model_selection import train_test_split"
   ]
  },
  {
   "cell_type": "code",
   "execution_count": 2,
   "id": "cd0550a7",
   "metadata": {},
   "outputs": [],
   "source": [
    "train=pd.read_csv('spam.csv',encoding = \"ISO-8859-1\")"
   ]
  },
  {
   "cell_type": "code",
   "execution_count": 3,
   "id": "44fd9436",
   "metadata": {},
   "outputs": [
    {
     "data": {
      "text/html": [
       "<div>\n",
       "<style scoped>\n",
       "    .dataframe tbody tr th:only-of-type {\n",
       "        vertical-align: middle;\n",
       "    }\n",
       "\n",
       "    .dataframe tbody tr th {\n",
       "        vertical-align: top;\n",
       "    }\n",
       "\n",
       "    .dataframe thead th {\n",
       "        text-align: right;\n",
       "    }\n",
       "</style>\n",
       "<table border=\"1\" class=\"dataframe\">\n",
       "  <thead>\n",
       "    <tr style=\"text-align: right;\">\n",
       "      <th></th>\n",
       "      <th>v1</th>\n",
       "      <th>v2</th>\n",
       "      <th>Unnamed: 2</th>\n",
       "      <th>Unnamed: 3</th>\n",
       "      <th>Unnamed: 4</th>\n",
       "    </tr>\n",
       "  </thead>\n",
       "  <tbody>\n",
       "    <tr>\n",
       "      <th>0</th>\n",
       "      <td>ham</td>\n",
       "      <td>Go until jurong point, crazy.. Available only ...</td>\n",
       "      <td>NaN</td>\n",
       "      <td>NaN</td>\n",
       "      <td>NaN</td>\n",
       "    </tr>\n",
       "    <tr>\n",
       "      <th>1</th>\n",
       "      <td>ham</td>\n",
       "      <td>Ok lar... Joking wif u oni...</td>\n",
       "      <td>NaN</td>\n",
       "      <td>NaN</td>\n",
       "      <td>NaN</td>\n",
       "    </tr>\n",
       "    <tr>\n",
       "      <th>2</th>\n",
       "      <td>spam</td>\n",
       "      <td>Free entry in 2 a wkly comp to win FA Cup fina...</td>\n",
       "      <td>NaN</td>\n",
       "      <td>NaN</td>\n",
       "      <td>NaN</td>\n",
       "    </tr>\n",
       "    <tr>\n",
       "      <th>3</th>\n",
       "      <td>ham</td>\n",
       "      <td>U dun say so early hor... U c already then say...</td>\n",
       "      <td>NaN</td>\n",
       "      <td>NaN</td>\n",
       "      <td>NaN</td>\n",
       "    </tr>\n",
       "    <tr>\n",
       "      <th>4</th>\n",
       "      <td>ham</td>\n",
       "      <td>Nah I don't think he goes to usf, he lives aro...</td>\n",
       "      <td>NaN</td>\n",
       "      <td>NaN</td>\n",
       "      <td>NaN</td>\n",
       "    </tr>\n",
       "  </tbody>\n",
       "</table>\n",
       "</div>"
      ],
      "text/plain": [
       "     v1                                                 v2 Unnamed: 2  \\\n",
       "0   ham  Go until jurong point, crazy.. Available only ...        NaN   \n",
       "1   ham                      Ok lar... Joking wif u oni...        NaN   \n",
       "2  spam  Free entry in 2 a wkly comp to win FA Cup fina...        NaN   \n",
       "3   ham  U dun say so early hor... U c already then say...        NaN   \n",
       "4   ham  Nah I don't think he goes to usf, he lives aro...        NaN   \n",
       "\n",
       "  Unnamed: 3 Unnamed: 4  \n",
       "0        NaN        NaN  \n",
       "1        NaN        NaN  \n",
       "2        NaN        NaN  \n",
       "3        NaN        NaN  \n",
       "4        NaN        NaN  "
      ]
     },
     "execution_count": 3,
     "metadata": {},
     "output_type": "execute_result"
    }
   ],
   "source": [
    "train.head()"
   ]
  },
  {
   "cell_type": "code",
   "execution_count": 4,
   "id": "e528c440",
   "metadata": {},
   "outputs": [],
   "source": [
    "train=train.drop(['Unnamed: 2','Unnamed: 3','Unnamed: 4'],axis=1)"
   ]
  },
  {
   "cell_type": "code",
   "execution_count": 5,
   "id": "0aae3ea8",
   "metadata": {},
   "outputs": [],
   "source": [
    "train.columns=['label','message']"
   ]
  },
  {
   "cell_type": "code",
   "execution_count": 6,
   "id": "4ee0aa34",
   "metadata": {},
   "outputs": [
    {
     "data": {
      "text/html": [
       "<div>\n",
       "<style scoped>\n",
       "    .dataframe tbody tr th:only-of-type {\n",
       "        vertical-align: middle;\n",
       "    }\n",
       "\n",
       "    .dataframe tbody tr th {\n",
       "        vertical-align: top;\n",
       "    }\n",
       "\n",
       "    .dataframe thead th {\n",
       "        text-align: right;\n",
       "    }\n",
       "</style>\n",
       "<table border=\"1\" class=\"dataframe\">\n",
       "  <thead>\n",
       "    <tr style=\"text-align: right;\">\n",
       "      <th></th>\n",
       "      <th>label</th>\n",
       "      <th>message</th>\n",
       "    </tr>\n",
       "  </thead>\n",
       "  <tbody>\n",
       "    <tr>\n",
       "      <th>0</th>\n",
       "      <td>ham</td>\n",
       "      <td>Go until jurong point, crazy.. Available only ...</td>\n",
       "    </tr>\n",
       "    <tr>\n",
       "      <th>1</th>\n",
       "      <td>ham</td>\n",
       "      <td>Ok lar... Joking wif u oni...</td>\n",
       "    </tr>\n",
       "    <tr>\n",
       "      <th>2</th>\n",
       "      <td>spam</td>\n",
       "      <td>Free entry in 2 a wkly comp to win FA Cup fina...</td>\n",
       "    </tr>\n",
       "    <tr>\n",
       "      <th>3</th>\n",
       "      <td>ham</td>\n",
       "      <td>U dun say so early hor... U c already then say...</td>\n",
       "    </tr>\n",
       "    <tr>\n",
       "      <th>4</th>\n",
       "      <td>ham</td>\n",
       "      <td>Nah I don't think he goes to usf, he lives aro...</td>\n",
       "    </tr>\n",
       "  </tbody>\n",
       "</table>\n",
       "</div>"
      ],
      "text/plain": [
       "  label                                            message\n",
       "0   ham  Go until jurong point, crazy.. Available only ...\n",
       "1   ham                      Ok lar... Joking wif u oni...\n",
       "2  spam  Free entry in 2 a wkly comp to win FA Cup fina...\n",
       "3   ham  U dun say so early hor... U c already then say...\n",
       "4   ham  Nah I don't think he goes to usf, he lives aro..."
      ]
     },
     "execution_count": 6,
     "metadata": {},
     "output_type": "execute_result"
    }
   ],
   "source": [
    "train.head()"
   ]
  },
  {
   "cell_type": "code",
   "execution_count": 7,
   "id": "e587e2d5",
   "metadata": {},
   "outputs": [
    {
     "data": {
      "text/plain": [
       "array(['ham', 'spam'], dtype=object)"
      ]
     },
     "execution_count": 7,
     "metadata": {},
     "output_type": "execute_result"
    }
   ],
   "source": [
    "train['label'].unique()"
   ]
  },
  {
   "cell_type": "code",
   "execution_count": 8,
   "id": "a758ab3e",
   "metadata": {},
   "outputs": [],
   "source": [
    "train['b_labels']=train['label'].map({'ham':0,'spam':1})"
   ]
  },
  {
   "cell_type": "code",
   "execution_count": 9,
   "id": "5030e14b",
   "metadata": {},
   "outputs": [
    {
     "data": {
      "text/plain": [
       "array([0, 0, 1, ..., 0, 0, 0], dtype=int64)"
      ]
     },
     "execution_count": 9,
     "metadata": {},
     "output_type": "execute_result"
    }
   ],
   "source": [
    "y=train['b_labels'].values\n",
    "y"
   ]
  },
  {
   "cell_type": "code",
   "execution_count": 10,
   "id": "02f01ef7",
   "metadata": {},
   "outputs": [],
   "source": [
    "X=train['message']"
   ]
  },
  {
   "cell_type": "code",
   "execution_count": 11,
   "id": "d4774c19",
   "metadata": {},
   "outputs": [],
   "source": [
    "X_train, X_test, y_train, y_test = train_test_split(X, y, test_size=0.33)"
   ]
  },
  {
   "cell_type": "code",
   "execution_count": 12,
   "id": "16eca449",
   "metadata": {},
   "outputs": [],
   "source": [
    "MAX_VOCAB=20000\n",
    "tokenizer=Tokenizer(num_words=MAX_VOCAB)\n",
    "tokenizer.fit_on_texts(X_train)\n",
    "sequences_train=tokenizer.texts_to_sequences(X_train)\n",
    "sequences_test=tokenizer.texts_to_sequences(X_test)"
   ]
  },
  {
   "cell_type": "code",
   "execution_count": 13,
   "id": "f9c9ef95",
   "metadata": {},
   "outputs": [
    {
     "name": "stdout",
     "output_type": "stream",
     "text": [
      "T= 7242\n"
     ]
    }
   ],
   "source": [
    "#word to integer mapping\n",
    "word2idx=tokenizer.word_index\n",
    "v=len(word2idx)\n",
    "print('T=',v)"
   ]
  },
  {
   "cell_type": "code",
   "execution_count": 14,
   "id": "6479599c",
   "metadata": {},
   "outputs": [
    {
     "name": "stdout",
     "output_type": "stream",
     "text": [
      "data_train shape= (3733, 189)\n"
     ]
    }
   ],
   "source": [
    "data_train=pad_sequences(sequences_train)\n",
    "print('data_train shape=',data_train.shape)"
   ]
  },
  {
   "cell_type": "code",
   "execution_count": 15,
   "id": "f33aacd4",
   "metadata": {},
   "outputs": [],
   "source": [
    "T=data_train.shape[1] # max length of a message"
   ]
  },
  {
   "cell_type": "code",
   "execution_count": 16,
   "id": "4e556a35",
   "metadata": {},
   "outputs": [],
   "source": [
    "data_test=pad_sequences(sequences_test,maxlen=T)"
   ]
  },
  {
   "cell_type": "code",
   "execution_count": 17,
   "id": "0de448fc",
   "metadata": {},
   "outputs": [
    {
     "data": {
      "text/plain": [
       "(1839, 189)"
      ]
     },
     "execution_count": 17,
     "metadata": {},
     "output_type": "execute_result"
    }
   ],
   "source": [
    "data_test.shape"
   ]
  },
  {
   "cell_type": "code",
   "execution_count": 18,
   "id": "ff6e853e",
   "metadata": {},
   "outputs": [
    {
     "data": {
      "text/plain": [
       "(3733, 189)"
      ]
     },
     "execution_count": 18,
     "metadata": {},
     "output_type": "execute_result"
    }
   ],
   "source": [
    "data_train.shape"
   ]
  },
  {
   "cell_type": "code",
   "execution_count": 19,
   "id": "86fd021a",
   "metadata": {},
   "outputs": [],
   "source": [
    "#building model\n",
    "#D-we gate to choose the dimensionalty \n",
    "#embedding will start from 1,bcoz 0 is used for padding\n",
    "#embedding layer is used for creating vectors from integers\n",
    "D=20"
   ]
  },
  {
   "cell_type": "code",
   "execution_count": 20,
   "id": "2640983a",
   "metadata": {},
   "outputs": [],
   "source": [
    "i=Input(shape=(T,))\n",
    "x=Embedding(v+1,D)(i)\n",
    "x=Conv1D(32,3,activation='relu')(x)\n",
    "x=MaxPooling1D(3)(x)\n",
    "x=Conv1D(64,3,activation='relu')(x)\n",
    "x=MaxPooling1D(3)(x)\n",
    "x=Conv1D(128,3,activation='relu')(x)\n",
    "x=GlobalMaxPooling1D()(x)\n",
    "x=Dense(1,activation='sigmoid')(x)"
   ]
  },
  {
   "cell_type": "code",
   "execution_count": 21,
   "id": "96751343",
   "metadata": {},
   "outputs": [],
   "source": [
    "model=Model(i,x)"
   ]
  },
  {
   "cell_type": "code",
   "execution_count": 22,
   "id": "bbbe7e29",
   "metadata": {},
   "outputs": [
    {
     "name": "stdout",
     "output_type": "stream",
     "text": [
      "Epoch 1/20\n",
      "117/117 [==============================] - 4s 10ms/step - loss: 0.3853 - accuracy: 0.8618 - val_loss: 0.2771 - val_accuracy: 0.8564\n",
      "Epoch 2/20\n",
      "117/117 [==============================] - 1s 8ms/step - loss: 0.1200 - accuracy: 0.9529 - val_loss: 0.1087 - val_accuracy: 0.9674\n",
      "Epoch 3/20\n",
      "117/117 [==============================] - 1s 8ms/step - loss: 0.0237 - accuracy: 0.9925 - val_loss: 0.0753 - val_accuracy: 0.9793\n",
      "Epoch 4/20\n",
      "117/117 [==============================] - 1s 8ms/step - loss: 0.0067 - accuracy: 0.9987 - val_loss: 0.0785 - val_accuracy: 0.9821\n",
      "Epoch 5/20\n",
      "117/117 [==============================] - 1s 8ms/step - loss: 0.0030 - accuracy: 0.9997 - val_loss: 0.0804 - val_accuracy: 0.9821\n",
      "Epoch 6/20\n",
      "117/117 [==============================] - 1s 8ms/step - loss: 0.0020 - accuracy: 0.9997 - val_loss: 0.0857 - val_accuracy: 0.9826\n",
      "Epoch 7/20\n",
      "117/117 [==============================] - 1s 8ms/step - loss: 0.0016 - accuracy: 0.9997 - val_loss: 0.0950 - val_accuracy: 0.9821\n",
      "Epoch 8/20\n",
      "117/117 [==============================] - 1s 8ms/step - loss: 0.0013 - accuracy: 0.9997 - val_loss: 0.0943 - val_accuracy: 0.9815\n",
      "Epoch 9/20\n",
      "117/117 [==============================] - 1s 8ms/step - loss: 0.0011 - accuracy: 0.9997 - val_loss: 0.1023 - val_accuracy: 0.9821\n",
      "Epoch 10/20\n",
      "117/117 [==============================] - 1s 8ms/step - loss: 8.7009e-04 - accuracy: 0.9997 - val_loss: 0.0825 - val_accuracy: 0.9821\n",
      "Epoch 11/20\n",
      "117/117 [==============================] - 1s 8ms/step - loss: 7.5223e-04 - accuracy: 0.9997 - val_loss: 0.1044 - val_accuracy: 0.9810\n",
      "Epoch 12/20\n",
      "117/117 [==============================] - 1s 8ms/step - loss: 4.0563e-04 - accuracy: 1.0000 - val_loss: 0.1079 - val_accuracy: 0.9804\n",
      "Epoch 13/20\n",
      "117/117 [==============================] - 1s 8ms/step - loss: 2.3547e-04 - accuracy: 1.0000 - val_loss: 0.1097 - val_accuracy: 0.9804\n",
      "Epoch 14/20\n",
      "117/117 [==============================] - 1s 8ms/step - loss: 1.6335e-04 - accuracy: 1.0000 - val_loss: 0.0973 - val_accuracy: 0.9810\n",
      "Epoch 15/20\n",
      "117/117 [==============================] - 1s 8ms/step - loss: 1.2090e-04 - accuracy: 1.0000 - val_loss: 0.1076 - val_accuracy: 0.9810\n",
      "Epoch 16/20\n",
      "117/117 [==============================] - 1s 8ms/step - loss: 7.7739e-05 - accuracy: 1.0000 - val_loss: 0.1111 - val_accuracy: 0.9810\n",
      "Epoch 17/20\n",
      "117/117 [==============================] - 1s 8ms/step - loss: 6.3350e-05 - accuracy: 1.0000 - val_loss: 0.1111 - val_accuracy: 0.9810\n",
      "Epoch 18/20\n",
      "117/117 [==============================] - 1s 8ms/step - loss: 5.0591e-05 - accuracy: 1.0000 - val_loss: 0.1120 - val_accuracy: 0.9810\n",
      "Epoch 19/20\n",
      "117/117 [==============================] - 1s 8ms/step - loss: 3.9280e-05 - accuracy: 1.0000 - val_loss: 0.1144 - val_accuracy: 0.9810\n",
      "Epoch 20/20\n",
      "117/117 [==============================] - 1s 8ms/step - loss: 3.4926e-05 - accuracy: 1.0000 - val_loss: 0.1140 - val_accuracy: 0.9810\n"
     ]
    },
    {
     "data": {
      "text/plain": [
       "<keras.callbacks.History at 0x25ecc6516c0>"
      ]
     },
     "execution_count": 22,
     "metadata": {},
     "output_type": "execute_result"
    }
   ],
   "source": [
    "model.compile(optimizer='adam',loss='binary_crossentropy',metrics=['accuracy'])\n",
    "model.fit(data_train,y_train,validation_data=(data_test,y_test),epochs=20)"
   ]
  },
  {
   "cell_type": "code",
   "execution_count": 23,
   "id": "8c3490e3",
   "metadata": {},
   "outputs": [],
   "source": [
    "losses=pd.DataFrame(model.history.history)"
   ]
  },
  {
   "cell_type": "code",
   "execution_count": 24,
   "id": "fe4f8760",
   "metadata": {},
   "outputs": [
    {
     "data": {
      "text/plain": [
       "<AxesSubplot: >"
      ]
     },
     "execution_count": 24,
     "metadata": {},
     "output_type": "execute_result"
    },
    {
     "data": {
      "image/png": "[encoded data removed]",
      "text/plain": [
       "<Figure size 640x480 with 1 Axes>"
      ]
     },
     "metadata": {},
     "output_type": "display_data"
    }
   ],
   "source": [
    "losses.plot()"
   ]
  }
 ],
 "metadata": {
  "kernelspec": {
   "display_name": "Python 3 (ipykernel)",
   "language": "python",
   "name": "python3"
  },
  "language_info": {
   "codemirror_mode": {
    "name": "ipython",
    "version": 3
   },
   "file_extension": ".py",
   "mimetype": "text/x-python",
   "name": "python",
   "nbconvert_exporter": "python",
   "pygments_lexer": "ipython3",
   "version": "3.10.13"
  }
 },
 "nbformat": 4,
 "nbformat_minor": 5
}
